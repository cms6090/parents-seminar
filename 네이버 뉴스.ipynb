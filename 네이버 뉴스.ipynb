{
 "cells": [
  {
   "cell_type": "code",
   "execution_count": 1,
   "id": "e3aaf960",
   "metadata": {},
   "outputs": [],
   "source": [
    "# 라이브러리 불러오기\n",
    "from selenium import webdriver \n",
    "import requests\n",
    "from bs4 import BeautifulSoup as BS\n",
    "import pandas as pd\n",
    "import time\n",
    "import re\n",
    "import pickle\n",
    "from selenium.webdriver.common.by import By\n",
    "import datetime"
   ]
  },
  {
   "cell_type": "code",
   "execution_count": 2,
   "id": "2622a658",
   "metadata": {
    "scrolled": true
   },
   "outputs": [
    {
     "name": "stderr",
     "output_type": "stream",
     "text": [
      "C:\\Users\\cho03\\AppData\\Local\\Temp\\ipykernel_11220\\388304711.py:4: DeprecationWarning: executable_path has been deprecated, please pass in a Service object\n",
      "  driver = webdriver.Chrome(path)\n"
     ]
    }
   ],
   "source": [
    "# 크롬 드라이버 로드\n",
    "file_path = \"C:\\\\Users\\\\cho03\\\\Downloads\\\\세미나\\\\방학 세미나\\\\\"\n",
    "path = file_path + 'chromedriver.exe'\n",
    "driver = webdriver.Chrome(path)"
   ]
  },
  {
   "cell_type": "code",
   "execution_count": 3,
   "id": "b994ef96",
   "metadata": {},
   "outputs": [],
   "source": [
    "headers = {\n",
    "    \"User-Agent\": \"Mozilla/5.0 (Windows NT 6.3; WOW64) AppleWebKit/537.36 (KHTML, like Gecko) Chrome/44.0.2403.157 Safari/537.36\"\n",
    "}"
   ]
  },
  {
   "cell_type": "code",
   "execution_count": 4,
   "id": "8d443506",
   "metadata": {},
   "outputs": [],
   "source": [
    "def press(url):\n",
    "    response = requests.get(url, headers = headers)\n",
    "    html_content = response.text\n",
    "    soup = BS(html_content, 'html.parser')\n",
    "    \n",
    "    find_genre = soup.find('p',class_='c_text')\n",
    "    text_content = find_genre.text\n",
    "\n",
    "    start_index = text_content.find('ⓒ ')\n",
    "    end_index = text_content.find('.')\n",
    "    \n",
    "    if start_index != -1:\n",
    "        extracted_text = text_content[start_index + len('ⓒ '):end_index]\n",
    "        ch = extracted_text\n",
    "    return ch"
   ]
  },
  {
   "cell_type": "code",
   "execution_count": 5,
   "id": "7162e271",
   "metadata": {},
   "outputs": [],
   "source": [
    "# 네이버 블로그 검색 페이지로 이동\n",
    "driver.get('https://search.naver.com/search.naver?where=news&query=%EB%B6%80%EB%AA%A8%20%EB%B6%80%EC%96%91&sm=tab_opt&sort=0&photo=0&field=0&pd=3&ds=2021.07.19&de=2023.07.19&docid=&related=0&mynews=0&office_type=0&office_section_code=0&news_office_checked=&nso=so%3Ar%2Cp%3Afrom20210719to20230719&is_sug_officeid=0')"
   ]
  },
  {
   "cell_type": "code",
   "execution_count": 6,
   "id": "ed04852e",
   "metadata": {},
   "outputs": [],
   "source": [
    "title = []\n",
    "url = []\n",
    "doc = []\n",
    "ch = []\n",
    "\n",
    "for j in range(400): \n",
    "    try:\n",
    "        a = driver.find_elements(By.CSS_SELECTOR, 'a.info:not(.press)')\n",
    "        try:\n",
    "            for i in range(len(a)):\n",
    "                html = driver.page_source\n",
    "                soup = BS(html, 'html.parser')\n",
    "                a[i].click()\n",
    "                time.sleep(1)\n",
    "                driver.switch_to.window(driver.window_handles[1])\n",
    "\n",
    "                if('news.naver.com' not in driver.current_url) :\n",
    "                    driver.close()\n",
    "                    driver.switch_to.window(driver.window_handles[0])\n",
    "                    continue\n",
    "\n",
    "                b = driver.find_element(By.CSS_SELECTOR, \"#title_area > span\").text\n",
    "                c = driver.current_url\n",
    "                d = driver.find_element(By.CSS_SELECTOR, \"#newsct_article\").text\n",
    "                e = press(c)\n",
    "\n",
    "                title.append(b)\n",
    "                url.append(c)\n",
    "                doc.append(d)\n",
    "                ch.append(e)\n",
    "\n",
    "                driver.close()\n",
    "                driver.switch_to.window(driver.window_handles[0])\n",
    "\n",
    "            driver.find_element(By.CLASS_NAME, 'btn_next').click()\n",
    "            print(j+1)\n",
    "        except:\n",
    "            continue\n",
    "    except:\n",
    "        continue"
   ]
  },
  {
   "cell_type": "code",
   "execution_count": 13,
   "id": "900aa6f5",
   "metadata": {},
   "outputs": [],
   "source": [
    "# 크롤링한 데이터를 데이터프레임으로 변환\n",
    "raw_data = pd.DataFrame()\n",
    "raw_data['title'] = title\n",
    "raw_data['url'] = url\n",
    "raw_data['doc'] = doc\n",
    "raw_data['ch'] = ch"
   ]
  },
  {
   "cell_type": "code",
   "execution_count": 14,
   "id": "03601eb0",
   "metadata": {},
   "outputs": [],
   "source": [
    "# 데이터프레임을 pickle파일로 저장\n",
    "f = open(file_path + \"news.pkl\", \"wb\")\n",
    "pickle.dump(raw_data,f)\n",
    "\n",
    "f.close()"
   ]
  },
  {
   "cell_type": "code",
   "execution_count": 9,
   "id": "7ed2b7a3",
   "metadata": {},
   "outputs": [],
   "source": [
    "# 크롬 드라이버 종료\n",
    "driver.quit()"
   ]
  },
  {
   "cell_type": "code",
   "execution_count": null,
   "id": "ea6392d0",
   "metadata": {},
   "outputs": [],
   "source": [
    "# 저장된 pickle 파일을 불러옴\n",
    "f = open(file_path + \"news.pkl\", \"rb\")\n",
    "temp_file = pickle.load(f)\n",
    "f.close()\n",
    "\n",
    "temp_file"
   ]
  }
 ],
 "metadata": {
  "kernelspec": {
   "display_name": "Python 3 (ipykernel)",
   "language": "python",
   "name": "python3"
  },
  "language_info": {
   "codemirror_mode": {
    "name": "ipython",
    "version": 3
   },
   "file_extension": ".py",
   "mimetype": "text/x-python",
   "name": "python",
   "nbconvert_exporter": "python",
   "pygments_lexer": "ipython3",
   "version": "3.9.12"
  }
 },
 "nbformat": 4,
 "nbformat_minor": 5
}
